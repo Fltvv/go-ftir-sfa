{
 "cells": [
  {
   "cell_type": "markdown",
   "id": "69cf0fce-e3cb-45a4-86d4-cecbad4d179a",
   "metadata": {},
   "source": [
    "# Import libraries"
   ]
  },
  {
   "cell_type": "code",
   "execution_count": 1,
   "id": "2191ce81-4093-4b9a-b49f-7da7b2526bb4",
   "metadata": {
    "editable": true,
    "slideshow": {
     "slide_type": ""
    },
    "tags": []
   },
   "outputs": [],
   "source": [
    "import os\n",
    "import warnings\n",
    "\n",
    "import numpy as np\n",
    "import pandas as pd\n",
    "\n",
    "import matplotlib.pyplot as plt\n",
    "import matplotlib.ticker as ticker\n",
    "import matplotlib.cm as cm\n",
    "\n",
    "import seaborn as sns"
   ]
  },
  {
   "cell_type": "code",
   "execution_count": 2,
   "id": "8c141a61-03a3-4785-935d-a7abd2089c63",
   "metadata": {},
   "outputs": [],
   "source": [
    "warnings.filterwarnings(\"ignore\")\n",
    "\n",
    "pd.set_option('display.max_columns', 50)"
   ]
  },
  {
   "cell_type": "code",
   "execution_count": 3,
   "id": "ba107c6e-8985-42f0-8ebd-abe534afa1f6",
   "metadata": {},
   "outputs": [],
   "source": [
    "path_to_save = './../results/02c_mass_analysis'"
   ]
  },
  {
   "cell_type": "markdown",
   "id": "236ecd5f-4319-4667-a82b-5990781e7c7c",
   "metadata": {},
   "source": [
    "# Loading data"
   ]
  },
  {
   "cell_type": "code",
   "execution_count": 4,
   "id": "b383b24f-27ff-4a83-9b98-9a6b1299020b",
   "metadata": {},
   "outputs": [],
   "source": [
    "path_to_data= './../data/mass_ratios/fractions_mass_ratios.xlsx'"
   ]
  },
  {
   "cell_type": "code",
   "execution_count": 5,
   "id": "e8fa586a-594f-4e96-b0de-d83b1481f75a",
   "metadata": {},
   "outputs": [
    {
     "name": "stdout",
     "output_type": "stream",
     "text": [
      "(8, 3)\n"
     ]
    },
    {
     "data": {
      "text/html": [
       "<div>\n",
       "<style scoped>\n",
       "    .dataframe tbody tr th:only-of-type {\n",
       "        vertical-align: middle;\n",
       "    }\n",
       "\n",
       "    .dataframe tbody tr th {\n",
       "        vertical-align: top;\n",
       "    }\n",
       "\n",
       "    .dataframe thead th {\n",
       "        text-align: right;\n",
       "    }\n",
       "</style>\n",
       "<table border=\"1\" class=\"dataframe\">\n",
       "  <thead>\n",
       "    <tr style=\"text-align: right;\">\n",
       "      <th></th>\n",
       "      <th>Membrane_Type</th>\n",
       "      <th>Mass, mg</th>\n",
       "      <th>Ratio, %</th>\n",
       "    </tr>\n",
       "  </thead>\n",
       "  <tbody>\n",
       "    <tr>\n",
       "      <th>0</th>\n",
       "      <td>&gt;70</td>\n",
       "      <td>13.0</td>\n",
       "      <td>1.868353</td>\n",
       "    </tr>\n",
       "    <tr>\n",
       "      <th>1</th>\n",
       "      <td>&gt;25</td>\n",
       "      <td>26.7</td>\n",
       "      <td>3.837310</td>\n",
       "    </tr>\n",
       "    <tr>\n",
       "      <th>2</th>\n",
       "      <td>&gt;5</td>\n",
       "      <td>623.5</td>\n",
       "      <td>89.609083</td>\n",
       "    </tr>\n",
       "  </tbody>\n",
       "</table>\n",
       "</div>"
      ],
      "text/plain": [
       "  Membrane_Type  Mass, mg   Ratio, %\n",
       "0           >70      13.0   1.868353\n",
       "1           >25      26.7   3.837310\n",
       "2            >5     623.5  89.609083"
      ]
     },
     "execution_count": 5,
     "metadata": {},
     "output_type": "execute_result"
    }
   ],
   "source": [
    "data = pd.read_excel(path_to_data)\n",
    "\n",
    "print(data.shape)\n",
    "data.head(3)"
   ]
  },
  {
   "cell_type": "markdown",
   "id": "ce60819e-c6b3-4062-a85c-776411809248",
   "metadata": {},
   "source": [
    "# Data wrangling"
   ]
  },
  {
   "cell_type": "markdown",
   "id": "d02887e2-fa07-4f20-801a-2641abd3c54b",
   "metadata": {},
   "source": [
    "## Column names correction"
   ]
  },
  {
   "cell_type": "code",
   "execution_count": 6,
   "id": "f6f3aab9-69ff-4e70-997a-a7d6c3b4aa0c",
   "metadata": {},
   "outputs": [],
   "source": [
    "columns_dict = {\n",
    "    'Membrane_Type': 'membrane',\n",
    "    'Mass, mg': 'mass',\n",
    "    'Ratio, %': 'ratio'\n",
    "}"
   ]
  },
  {
   "cell_type": "code",
   "execution_count": 7,
   "id": "e1355394-8868-4743-8257-b407b2372f9a",
   "metadata": {},
   "outputs": [
    {
     "name": "stdout",
     "output_type": "stream",
     "text": [
      "(8, 3)\n"
     ]
    },
    {
     "data": {
      "text/html": [
       "<div>\n",
       "<style scoped>\n",
       "    .dataframe tbody tr th:only-of-type {\n",
       "        vertical-align: middle;\n",
       "    }\n",
       "\n",
       "    .dataframe tbody tr th {\n",
       "        vertical-align: top;\n",
       "    }\n",
       "\n",
       "    .dataframe thead th {\n",
       "        text-align: right;\n",
       "    }\n",
       "</style>\n",
       "<table border=\"1\" class=\"dataframe\">\n",
       "  <thead>\n",
       "    <tr style=\"text-align: right;\">\n",
       "      <th></th>\n",
       "      <th>membrane</th>\n",
       "      <th>mass</th>\n",
       "      <th>ratio</th>\n",
       "    </tr>\n",
       "  </thead>\n",
       "  <tbody>\n",
       "    <tr>\n",
       "      <th>0</th>\n",
       "      <td>&gt;70</td>\n",
       "      <td>13.0</td>\n",
       "      <td>1.868353</td>\n",
       "    </tr>\n",
       "    <tr>\n",
       "      <th>1</th>\n",
       "      <td>&gt;25</td>\n",
       "      <td>26.7</td>\n",
       "      <td>3.837310</td>\n",
       "    </tr>\n",
       "    <tr>\n",
       "      <th>2</th>\n",
       "      <td>&gt;5</td>\n",
       "      <td>623.5</td>\n",
       "      <td>89.609083</td>\n",
       "    </tr>\n",
       "  </tbody>\n",
       "</table>\n",
       "</div>"
      ],
      "text/plain": [
       "  membrane   mass      ratio\n",
       "0      >70   13.0   1.868353\n",
       "1      >25   26.7   3.837310\n",
       "2       >5  623.5  89.609083"
      ]
     },
     "execution_count": 7,
     "metadata": {},
     "output_type": "execute_result"
    }
   ],
   "source": [
    "data = data.rename(columns=columns_dict)\n",
    "\n",
    "print(data.shape)\n",
    "data.head(3)"
   ]
  },
  {
   "cell_type": "markdown",
   "id": "ab788979-8257-4eb8-9058-52cd65b1a1c6",
   "metadata": {},
   "source": [
    "## Column values correction"
   ]
  },
  {
   "cell_type": "code",
   "execution_count": 8,
   "id": "0bba1277-9527-4ba1-b2c4-c195f254983e",
   "metadata": {},
   "outputs": [
    {
     "name": "stdout",
     "output_type": "stream",
     "text": [
      "(8, 3)\n"
     ]
    },
    {
     "data": {
      "text/html": [
       "<div>\n",
       "<style scoped>\n",
       "    .dataframe tbody tr th:only-of-type {\n",
       "        vertical-align: middle;\n",
       "    }\n",
       "\n",
       "    .dataframe tbody tr th {\n",
       "        vertical-align: top;\n",
       "    }\n",
       "\n",
       "    .dataframe thead th {\n",
       "        text-align: right;\n",
       "    }\n",
       "</style>\n",
       "<table border=\"1\" class=\"dataframe\">\n",
       "  <thead>\n",
       "    <tr style=\"text-align: right;\">\n",
       "      <th></th>\n",
       "      <th>membrane</th>\n",
       "      <th>mass</th>\n",
       "      <th>ratio</th>\n",
       "    </tr>\n",
       "  </thead>\n",
       "  <tbody>\n",
       "    <tr>\n",
       "      <th>0</th>\n",
       "      <td>$&gt;70$</td>\n",
       "      <td>13.0</td>\n",
       "      <td>1.87</td>\n",
       "    </tr>\n",
       "    <tr>\n",
       "      <th>1</th>\n",
       "      <td>$&gt;25$</td>\n",
       "      <td>26.7</td>\n",
       "      <td>3.84</td>\n",
       "    </tr>\n",
       "    <tr>\n",
       "      <th>2</th>\n",
       "      <td>$&gt;5$</td>\n",
       "      <td>623.5</td>\n",
       "      <td>89.61</td>\n",
       "    </tr>\n",
       "  </tbody>\n",
       "</table>\n",
       "</div>"
      ],
      "text/plain": [
       "  membrane   mass  ratio\n",
       "0    $>70$   13.0   1.87\n",
       "1    $>25$   26.7   3.84\n",
       "2     $>5$  623.5  89.61"
      ]
     },
     "execution_count": 8,
     "metadata": {},
     "output_type": "execute_result"
    }
   ],
   "source": [
    "data['membrane'] = data['membrane'].apply(lambda x: f'${x}$')\n",
    "data['mass'] = data['mass'].apply(lambda x: round(x, 2))\n",
    "data['ratio'] = data['ratio'].apply(lambda x: round(x, 2))\n",
    "\n",
    "print(data.shape)\n",
    "data.head(3)"
   ]
  },
  {
   "cell_type": "markdown",
   "id": "d4e9a122-a26d-4551-9b4f-e4c21aa61fbe",
   "metadata": {},
   "source": [
    "# Data visualisation"
   ]
  },
  {
   "cell_type": "code",
   "execution_count": 9,
   "id": "f8d4bdd9-4c8b-41dc-a4c7-661818e8e049",
   "metadata": {},
   "outputs": [],
   "source": [
    "sns.set_theme()"
   ]
  },
  {
   "cell_type": "code",
   "execution_count": 10,
   "id": "a74a8fb7-208e-4663-958d-975d0f4fe1cc",
   "metadata": {},
   "outputs": [],
   "source": [
    "fontsize = 14"
   ]
  },
  {
   "cell_type": "code",
   "execution_count": 11,
   "id": "d8f2fc85-b7c6-4dcf-962c-d130c15470df",
   "metadata": {},
   "outputs": [
    {
     "data": {
      "image/png": "[encoded data removed]",
      "text/plain": [
       "<Figure size 1800x600 with 1 Axes>"
      ]
     },
     "metadata": {},
     "output_type": "display_data"
    }
   ],
   "source": [
    "fig, ax = plt.subplots(figsize=(6, 2), dpi=300)\n",
    "\n",
    "sns.barplot(\n",
    "    data=data,\n",
    "    x='membrane',\n",
    "    y='ratio',\n",
    "    palette='viridis',\n",
    "    ax=ax\n",
    ")\n",
    "\n",
    "ax.set_xlabel('', fontsize=fontsize)\n",
    "ax.set_ylabel('Доля фракции, %', fontsize=fontsize, labelpad=10)\n",
    "\n",
    "ax.tick_params(axis='x', labelsize=fontsize)\n",
    "ax.tick_params(axis='y', labelsize=fontsize)\n",
    "\n",
    "ax.set_yscale('log', base=10)\n",
    "\n",
    "plt.tight_layout()\n",
    "\n",
    "plt.savefig(f'{path_to_save}/mass_fractions_barplot.png', dpi=600)\n",
    "\n",
    "plt.show()"
   ]
  },
  {
   "cell_type": "code",
   "execution_count": null,
   "id": "306b3aaf-f43a-43f1-a60a-02bfb425ae14",
   "metadata": {},
   "outputs": [],
   "source": []
  },
  {
   "cell_type": "code",
   "execution_count": null,
   "id": "39c0c4fa-d172-4a3d-82cb-4f4b3adb0d0c",
   "metadata": {},
   "outputs": [],
   "source": []
  }
 ],
 "metadata": {
  "kernelspec": {
   "display_name": "Python 3 (ipykernel)",
   "language": "python",
   "name": "python3"
  },
  "language_info": {
   "codemirror_mode": {
    "name": "ipython",
    "version": 3
   },
   "file_extension": ".py",
   "mimetype": "text/x-python",
   "name": "python",
   "nbconvert_exporter": "python",
   "pygments_lexer": "ipython3",
   "version": "3.11.9"
  }
 },
 "nbformat": 4,
 "nbformat_minor": 5
}
